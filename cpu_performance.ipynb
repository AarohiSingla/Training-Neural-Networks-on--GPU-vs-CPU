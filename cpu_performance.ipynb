{
 "cells": [
  {
   "cell_type": "code",
   "execution_count": 1,
   "metadata": {},
   "outputs": [
    {
     "name": "stdout",
     "output_type": "stream",
     "text": [
      "Python 3.6.8\n"
     ]
    }
   ],
   "source": [
    "!python --version  #3.6.8"
   ]
  },
  {
   "cell_type": "code",
   "execution_count": 2,
   "metadata": {},
   "outputs": [
    {
     "data": {
      "text/plain": [
       "'1.15.0'"
      ]
     },
     "execution_count": 2,
     "metadata": {},
     "output_type": "execute_result"
    }
   ],
   "source": [
    "import tensorflow as tf\n",
    "tf.__version__"
   ]
  },
  {
   "cell_type": "code",
   "execution_count": 3,
   "metadata": {},
   "outputs": [
    {
     "data": {
      "text/plain": [
       "[PhysicalDevice(name='/physical_device:CPU:0', device_type='CPU')]"
      ]
     },
     "execution_count": 3,
     "metadata": {},
     "output_type": "execute_result"
    }
   ],
   "source": [
    "#only cpu is available right now because I have installed cuda and cudnn for different version of tensorflow. \n",
    "#This is one of the environment I have created for older version of tensorflow.\n",
    "#To use GPU you need specific version of Cuda and cudnn\n",
    "\n",
    "tf.config.experimental.list_physical_devices()"
   ]
  },
  {
   "cell_type": "code",
   "execution_count": 4,
   "metadata": {},
   "outputs": [
    {
     "name": "stdout",
     "output_type": "stream",
     "text": [
      "nvcc: NVIDIA (R) Cuda compiler driver\n",
      "Copyright (c) 2005-2019 NVIDIA Corporation\n",
      "Built on Sun_Jul_28_19:12:52_Pacific_Daylight_Time_2019\n",
      "Cuda compilation tools, release 10.1, V10.1.243\n"
     ]
    }
   ],
   "source": [
    "\n",
    "!nvcc -V"
   ]
  },
  {
   "cell_type": "code",
   "execution_count": 5,
   "metadata": {},
   "outputs": [
    {
     "name": "stdout",
     "output_type": "stream",
     "text": [
      "['bed_room', 'dining_room', 'living_room']\n",
      "Types of rooms found:  3\n"
     ]
    }
   ],
   "source": [
    "import numpy as np \n",
    "import pandas as pd \n",
    "import matplotlib.pyplot as plt\n",
    "import os\n",
    "\n",
    "dataset_path = os.listdir('dataset')\n",
    "\n",
    "room_types = os.listdir('dataset')\n",
    "print (room_types)  #what kinds of rooms are in this dataset\n",
    "\n",
    "print(\"Types of rooms found: \", len(dataset_path))\n",
    "\n"
   ]
  },
  {
   "cell_type": "code",
   "execution_count": 6,
   "metadata": {},
   "outputs": [
    {
     "name": "stdout",
     "output_type": "stream",
     "text": [
      "[('bed_room', 'dataset/bed_room/apartment-2094734__340.jpg')]\n",
      "[('bed_room', 'dataset/bed_room/apartment-2094734__340.jpg')]\n",
      "[('bed_room', 'dataset/bed_room/apartment-2094734__340.jpg')]\n",
      "[('bed_room', 'dataset/bed_room/apartment-2094734__340.jpg')]\n",
      "[('bed_room', 'dataset/bed_room/apartment-2094734__340.jpg')]\n",
      "[('bed_room', 'dataset/bed_room/apartment-2094734__340.jpg')]\n",
      "[('bed_room', 'dataset/bed_room/apartment-2094734__340.jpg')]\n",
      "[('bed_room', 'dataset/bed_room/apartment-2094734__340.jpg')]\n",
      "[('bed_room', 'dataset/bed_room/apartment-2094734__340.jpg')]\n",
      "[('bed_room', 'dataset/bed_room/apartment-2094734__340.jpg')]\n",
      "[('bed_room', 'dataset/bed_room/apartment-2094734__340.jpg')]\n",
      "[('bed_room', 'dataset/bed_room/apartment-2094734__340.jpg')]\n",
      "[('bed_room', 'dataset/bed_room/apartment-2094734__340.jpg')]\n",
      "[('bed_room', 'dataset/bed_room/apartment-2094734__340.jpg')]\n",
      "[('bed_room', 'dataset/bed_room/apartment-2094734__340.jpg')]\n",
      "[('bed_room', 'dataset/bed_room/apartment-2094734__340.jpg')]\n",
      "[('bed_room', 'dataset/bed_room/apartment-2094734__340.jpg')]\n",
      "[('bed_room', 'dataset/bed_room/apartment-2094734__340.jpg')]\n",
      "[('bed_room', 'dataset/bed_room/apartment-2094734__340.jpg')]\n",
      "[('bed_room', 'dataset/bed_room/apartment-2094734__340.jpg')]\n",
      "[('bed_room', 'dataset/bed_room/apartment-2094734__340.jpg')]\n",
      "[('bed_room', 'dataset/bed_room/apartment-2094734__340.jpg')]\n",
      "[('bed_room', 'dataset/bed_room/apartment-2094734__340.jpg')]\n",
      "[('bed_room', 'dataset/bed_room/apartment-2094734__340.jpg')]\n",
      "[('bed_room', 'dataset/bed_room/apartment-2094734__340.jpg')]\n",
      "[('bed_room', 'dataset/bed_room/apartment-2094734__340.jpg')]\n",
      "[('bed_room', 'dataset/bed_room/apartment-2094734__340.jpg')]\n",
      "[('bed_room', 'dataset/bed_room/apartment-2094734__340.jpg')]\n",
      "[('bed_room', 'dataset/bed_room/apartment-2094734__340.jpg')]\n",
      "[('bed_room', 'dataset/bed_room/apartment-2094734__340.jpg')]\n",
      "[('bed_room', 'dataset/bed_room/apartment-2094734__340.jpg')]\n",
      "[('bed_room', 'dataset/bed_room/apartment-2094734__340.jpg')]\n",
      "[('bed_room', 'dataset/bed_room/apartment-2094734__340.jpg')]\n",
      "[('bed_room', 'dataset/bed_room/apartment-2094734__340.jpg')]\n",
      "[('bed_room', 'dataset/bed_room/apartment-2094734__340.jpg')]\n",
      "[('bed_room', 'dataset/bed_room/apartment-2094734__340.jpg')]\n",
      "[('bed_room', 'dataset/bed_room/apartment-2094734__340.jpg')]\n",
      "[('bed_room', 'dataset/bed_room/apartment-2094734__340.jpg')]\n",
      "[('bed_room', 'dataset/bed_room/apartment-2094734__340.jpg')]\n",
      "[('bed_room', 'dataset/bed_room/apartment-2094734__340.jpg')]\n",
      "[('bed_room', 'dataset/bed_room/apartment-2094734__340.jpg')]\n",
      "[('bed_room', 'dataset/bed_room/apartment-2094734__340.jpg')]\n",
      "[('bed_room', 'dataset/bed_room/apartment-2094734__340.jpg')]\n",
      "[('bed_room', 'dataset/bed_room/apartment-2094734__340.jpg')]\n",
      "[('bed_room', 'dataset/bed_room/apartment-2094734__340.jpg')]\n",
      "[('bed_room', 'dataset/bed_room/apartment-2094734__340.jpg')]\n",
      "[('bed_room', 'dataset/bed_room/apartment-2094734__340.jpg')]\n",
      "[('bed_room', 'dataset/bed_room/apartment-2094734__340.jpg')]\n",
      "[('bed_room', 'dataset/bed_room/apartment-2094734__340.jpg')]\n",
      "[('bed_room', 'dataset/bed_room/apartment-2094734__340.jpg')]\n",
      "[('bed_room', 'dataset/bed_room/apartment-2094734__340.jpg')]\n",
      "[('bed_room', 'dataset/bed_room/apartment-2094734__340.jpg')]\n",
      "[('bed_room', 'dataset/bed_room/apartment-2094734__340.jpg')]\n",
      "[('bed_room', 'dataset/bed_room/apartment-2094734__340.jpg')]\n",
      "[('bed_room', 'dataset/bed_room/apartment-2094734__340.jpg')]\n",
      "[('bed_room', 'dataset/bed_room/apartment-2094734__340.jpg')]\n",
      "[('bed_room', 'dataset/bed_room/apartment-2094734__340.jpg')]\n",
      "[('bed_room', 'dataset/bed_room/apartment-2094734__340.jpg')]\n",
      "[('bed_room', 'dataset/bed_room/apartment-2094734__340.jpg')]\n",
      "[('bed_room', 'dataset/bed_room/apartment-2094734__340.jpg')]\n",
      "[('bed_room', 'dataset/bed_room/apartment-2094734__340.jpg')]\n",
      "[('bed_room', 'dataset/bed_room/apartment-2094734__340.jpg')]\n",
      "[('bed_room', 'dataset/bed_room/apartment-2094734__340.jpg')]\n",
      "[('bed_room', 'dataset/bed_room/apartment-2094734__340.jpg')]\n",
      "[('bed_room', 'dataset/bed_room/apartment-2094734__340.jpg')]\n",
      "[('bed_room', 'dataset/bed_room/apartment-2094734__340.jpg')]\n",
      "[('bed_room', 'dataset/bed_room/apartment-2094734__340.jpg')]\n",
      "[('bed_room', 'dataset/bed_room/apartment-2094734__340.jpg')]\n",
      "[('bed_room', 'dataset/bed_room/apartment-2094734__340.jpg')]\n",
      "[('bed_room', 'dataset/bed_room/apartment-2094734__340.jpg')]\n",
      "[('bed_room', 'dataset/bed_room/apartment-2094734__340.jpg')]\n",
      "[('bed_room', 'dataset/bed_room/apartment-2094734__340.jpg')]\n",
      "[('bed_room', 'dataset/bed_room/apartment-2094734__340.jpg')]\n",
      "[('bed_room', 'dataset/bed_room/apartment-2094734__340.jpg')]\n",
      "[('bed_room', 'dataset/bed_room/apartment-2094734__340.jpg')]\n",
      "[('bed_room', 'dataset/bed_room/apartment-2094734__340.jpg')]\n",
      "[('bed_room', 'dataset/bed_room/apartment-2094734__340.jpg')]\n",
      "[('bed_room', 'dataset/bed_room/apartment-2094734__340.jpg')]\n",
      "[('bed_room', 'dataset/bed_room/apartment-2094734__340.jpg')]\n",
      "[('bed_room', 'dataset/bed_room/apartment-2094734__340.jpg')]\n",
      "[('bed_room', 'dataset/bed_room/apartment-2094734__340.jpg')]\n",
      "[('bed_room', 'dataset/bed_room/apartment-2094734__340.jpg')]\n",
      "[('bed_room', 'dataset/bed_room/apartment-2094734__340.jpg')]\n",
      "[('bed_room', 'dataset/bed_room/apartment-2094734__340.jpg')]\n",
      "[('bed_room', 'dataset/bed_room/apartment-2094734__340.jpg')]\n",
      "[('bed_room', 'dataset/bed_room/apartment-2094734__340.jpg')]\n",
      "[('bed_room', 'dataset/bed_room/apartment-2094734__340.jpg')]\n",
      "[('bed_room', 'dataset/bed_room/apartment-2094734__340.jpg')]\n",
      "[('bed_room', 'dataset/bed_room/apartment-2094734__340.jpg')]\n",
      "[('bed_room', 'dataset/bed_room/apartment-2094734__340.jpg')]\n",
      "[('bed_room', 'dataset/bed_room/apartment-2094734__340.jpg')]\n",
      "[('bed_room', 'dataset/bed_room/apartment-2094734__340.jpg')]\n",
      "[('bed_room', 'dataset/bed_room/apartment-2094734__340.jpg')]\n",
      "[('bed_room', 'dataset/bed_room/apartment-2094734__340.jpg')]\n",
      "[('bed_room', 'dataset/bed_room/apartment-2094734__340.jpg')]\n",
      "[('bed_room', 'dataset/bed_room/apartment-2094734__340.jpg')]\n",
      "[('bed_room', 'dataset/bed_room/apartment-2094734__340.jpg')]\n",
      "[('bed_room', 'dataset/bed_room/apartment-2094734__340.jpg')]\n",
      "[('bed_room', 'dataset/bed_room/apartment-2094734__340.jpg')]\n",
      "[('bed_room', 'dataset/bed_room/apartment-2094734__340.jpg')]\n",
      "[('bed_room', 'dataset/bed_room/apartment-2094734__340.jpg')]\n",
      "[('bed_room', 'dataset/bed_room/apartment-2094734__340.jpg')]\n",
      "[('bed_room', 'dataset/bed_room/apartment-2094734__340.jpg')]\n",
      "[('bed_room', 'dataset/bed_room/apartment-2094734__340.jpg')]\n",
      "[('bed_room', 'dataset/bed_room/apartment-2094734__340.jpg')]\n",
      "[('bed_room', 'dataset/bed_room/apartment-2094734__340.jpg')]\n",
      "[('bed_room', 'dataset/bed_room/apartment-2094734__340.jpg')]\n",
      "[('bed_room', 'dataset/bed_room/apartment-2094734__340.jpg')]\n",
      "[('bed_room', 'dataset/bed_room/apartment-2094734__340.jpg')]\n",
      "[('bed_room', 'dataset/bed_room/apartment-2094734__340.jpg')]\n",
      "[('bed_room', 'dataset/bed_room/apartment-2094734__340.jpg')]\n",
      "[('bed_room', 'dataset/bed_room/apartment-2094734__340.jpg')]\n",
      "[('bed_room', 'dataset/bed_room/apartment-2094734__340.jpg')]\n",
      "[('bed_room', 'dataset/bed_room/apartment-2094734__340.jpg')]\n",
      "[('bed_room', 'dataset/bed_room/apartment-2094734__340.jpg')]\n",
      "[('bed_room', 'dataset/bed_room/apartment-2094734__340.jpg')]\n",
      "[('bed_room', 'dataset/bed_room/apartment-2094734__340.jpg')]\n",
      "[('bed_room', 'dataset/bed_room/apartment-2094734__340.jpg')]\n",
      "[('bed_room', 'dataset/bed_room/apartment-2094734__340.jpg')]\n",
      "[('bed_room', 'dataset/bed_room/apartment-2094734__340.jpg')]\n",
      "[('bed_room', 'dataset/bed_room/apartment-2094734__340.jpg')]\n",
      "[('bed_room', 'dataset/bed_room/apartment-2094734__340.jpg')]\n",
      "[('bed_room', 'dataset/bed_room/apartment-2094734__340.jpg')]\n",
      "[('bed_room', 'dataset/bed_room/apartment-2094734__340.jpg')]\n",
      "[('bed_room', 'dataset/bed_room/apartment-2094734__340.jpg')]\n",
      "[('bed_room', 'dataset/bed_room/apartment-2094734__340.jpg')]\n",
      "[('bed_room', 'dataset/bed_room/apartment-2094734__340.jpg')]\n",
      "[('bed_room', 'dataset/bed_room/apartment-2094734__340.jpg')]\n",
      "[('bed_room', 'dataset/bed_room/apartment-2094734__340.jpg')]\n",
      "[('bed_room', 'dataset/bed_room/apartment-2094734__340.jpg')]\n",
      "[('bed_room', 'dataset/bed_room/apartment-2094734__340.jpg')]\n",
      "[('bed_room', 'dataset/bed_room/apartment-2094734__340.jpg')]\n",
      "[('bed_room', 'dataset/bed_room/apartment-2094734__340.jpg')]\n",
      "[('bed_room', 'dataset/bed_room/apartment-2094734__340.jpg')]\n",
      "[('bed_room', 'dataset/bed_room/apartment-2094734__340.jpg')]\n",
      "[('bed_room', 'dataset/bed_room/apartment-2094734__340.jpg')]\n",
      "[('bed_room', 'dataset/bed_room/apartment-2094734__340.jpg')]\n",
      "[('bed_room', 'dataset/bed_room/apartment-2094734__340.jpg')]\n",
      "[('bed_room', 'dataset/bed_room/apartment-2094734__340.jpg')]\n",
      "[('bed_room', 'dataset/bed_room/apartment-2094734__340.jpg')]\n",
      "[('bed_room', 'dataset/bed_room/apartment-2094734__340.jpg')]\n",
      "[('bed_room', 'dataset/bed_room/apartment-2094734__340.jpg')]\n",
      "[('bed_room', 'dataset/bed_room/apartment-2094734__340.jpg')]\n",
      "[('bed_room', 'dataset/bed_room/apartment-2094734__340.jpg')]\n",
      "[('bed_room', 'dataset/bed_room/apartment-2094734__340.jpg')]\n",
      "[('bed_room', 'dataset/bed_room/apartment-2094734__340.jpg')]\n",
      "[('bed_room', 'dataset/bed_room/apartment-2094734__340.jpg')]\n",
      "[('bed_room', 'dataset/bed_room/apartment-2094734__340.jpg')]\n",
      "[('bed_room', 'dataset/bed_room/apartment-2094734__340.jpg')]\n",
      "[('bed_room', 'dataset/bed_room/apartment-2094734__340.jpg')]\n",
      "[('bed_room', 'dataset/bed_room/apartment-2094734__340.jpg')]\n",
      "[('bed_room', 'dataset/bed_room/apartment-2094734__340.jpg')]\n",
      "[('bed_room', 'dataset/bed_room/apartment-2094734__340.jpg')]\n",
      "[('bed_room', 'dataset/bed_room/apartment-2094734__340.jpg')]\n",
      "[('bed_room', 'dataset/bed_room/apartment-2094734__340.jpg')]\n",
      "[('bed_room', 'dataset/bed_room/apartment-2094734__340.jpg')]\n",
      "[('bed_room', 'dataset/bed_room/apartment-2094734__340.jpg')]\n",
      "[('bed_room', 'dataset/bed_room/apartment-2094734__340.jpg')]\n",
      "[('bed_room', 'dataset/bed_room/apartment-2094734__340.jpg')]\n",
      "[('bed_room', 'dataset/bed_room/apartment-2094734__340.jpg')]\n",
      "[('bed_room', 'dataset/bed_room/apartment-2094734__340.jpg')]\n",
      "[('bed_room', 'dataset/bed_room/apartment-2094734__340.jpg')]\n",
      "[('bed_room', 'dataset/bed_room/apartment-2094734__340.jpg')]\n",
      "[('bed_room', 'dataset/bed_room/apartment-2094734__340.jpg')]\n",
      "[('bed_room', 'dataset/bed_room/apartment-2094734__340.jpg')]\n",
      "[('bed_room', 'dataset/bed_room/apartment-2094734__340.jpg')]\n",
      "[('bed_room', 'dataset/bed_room/apartment-2094734__340.jpg')]\n",
      "[('bed_room', 'dataset/bed_room/apartment-2094734__340.jpg')]\n",
      "[('bed_room', 'dataset/bed_room/apartment-2094734__340.jpg')]\n",
      "[('bed_room', 'dataset/bed_room/apartment-2094734__340.jpg')]\n",
      "[('bed_room', 'dataset/bed_room/apartment-2094734__340.jpg')]\n",
      "[('bed_room', 'dataset/bed_room/apartment-2094734__340.jpg')]\n",
      "[('bed_room', 'dataset/bed_room/apartment-2094734__340.jpg')]\n",
      "[('bed_room', 'dataset/bed_room/apartment-2094734__340.jpg')]\n",
      "[('bed_room', 'dataset/bed_room/apartment-2094734__340.jpg')]\n",
      "[('bed_room', 'dataset/bed_room/apartment-2094734__340.jpg')]\n",
      "[('bed_room', 'dataset/bed_room/apartment-2094734__340.jpg')]\n",
      "[('bed_room', 'dataset/bed_room/apartment-2094734__340.jpg')]\n",
      "[('bed_room', 'dataset/bed_room/apartment-2094734__340.jpg')]\n",
      "[('bed_room', 'dataset/bed_room/apartment-2094734__340.jpg')]\n",
      "[('bed_room', 'dataset/bed_room/apartment-2094734__340.jpg')]\n",
      "[('bed_room', 'dataset/bed_room/apartment-2094734__340.jpg')]\n",
      "[('bed_room', 'dataset/bed_room/apartment-2094734__340.jpg')]\n",
      "[('bed_room', 'dataset/bed_room/apartment-2094734__340.jpg')]\n",
      "[('bed_room', 'dataset/bed_room/apartment-2094734__340.jpg')]\n",
      "[('bed_room', 'dataset/bed_room/apartment-2094734__340.jpg')]\n",
      "[('bed_room', 'dataset/bed_room/apartment-2094734__340.jpg')]\n",
      "[('bed_room', 'dataset/bed_room/apartment-2094734__340.jpg')]\n",
      "[('bed_room', 'dataset/bed_room/apartment-2094734__340.jpg')]\n",
      "[('bed_room', 'dataset/bed_room/apartment-2094734__340.jpg')]\n",
      "[('bed_room', 'dataset/bed_room/apartment-2094734__340.jpg')]\n",
      "[('bed_room', 'dataset/bed_room/apartment-2094734__340.jpg')]\n",
      "[('bed_room', 'dataset/bed_room/apartment-2094734__340.jpg')]\n",
      "[('bed_room', 'dataset/bed_room/apartment-2094734__340.jpg')]\n",
      "[('bed_room', 'dataset/bed_room/apartment-2094734__340.jpg')]\n",
      "[('bed_room', 'dataset/bed_room/apartment-2094734__340.jpg')]\n",
      "[('bed_room', 'dataset/bed_room/apartment-2094734__340.jpg')]\n",
      "[('bed_room', 'dataset/bed_room/apartment-2094734__340.jpg')]\n",
      "[('bed_room', 'dataset/bed_room/apartment-2094734__340.jpg')]\n",
      "[('bed_room', 'dataset/bed_room/apartment-2094734__340.jpg')]\n",
      "[('bed_room', 'dataset/bed_room/apartment-2094734__340.jpg')]\n",
      "[('bed_room', 'dataset/bed_room/apartment-2094734__340.jpg')]\n",
      "[('bed_room', 'dataset/bed_room/apartment-2094734__340.jpg')]\n",
      "[('bed_room', 'dataset/bed_room/apartment-2094734__340.jpg')]\n",
      "[('bed_room', 'dataset/bed_room/apartment-2094734__340.jpg')]\n",
      "[('bed_room', 'dataset/bed_room/apartment-2094734__340.jpg')]\n",
      "[('bed_room', 'dataset/bed_room/apartment-2094734__340.jpg')]\n",
      "[('bed_room', 'dataset/bed_room/apartment-2094734__340.jpg')]\n",
      "[('bed_room', 'dataset/bed_room/apartment-2094734__340.jpg')]\n",
      "[('bed_room', 'dataset/bed_room/apartment-2094734__340.jpg')]\n",
      "[('bed_room', 'dataset/bed_room/apartment-2094734__340.jpg')]\n",
      "[('bed_room', 'dataset/bed_room/apartment-2094734__340.jpg')]\n",
      "[('bed_room', 'dataset/bed_room/apartment-2094734__340.jpg')]\n",
      "[('bed_room', 'dataset/bed_room/apartment-2094734__340.jpg')]\n",
      "[('bed_room', 'dataset/bed_room/apartment-2094734__340.jpg')]\n",
      "[('bed_room', 'dataset/bed_room/apartment-2094734__340.jpg')]\n",
      "[('bed_room', 'dataset/bed_room/apartment-2094734__340.jpg')]\n",
      "[('bed_room', 'dataset/bed_room/apartment-2094734__340.jpg')]\n",
      "[('bed_room', 'dataset/bed_room/apartment-2094734__340.jpg')]\n",
      "[('bed_room', 'dataset/bed_room/apartment-2094734__340.jpg')]\n",
      "[('bed_room', 'dataset/bed_room/apartment-2094734__340.jpg')]\n",
      "[('bed_room', 'dataset/bed_room/apartment-2094734__340.jpg')]\n",
      "[('bed_room', 'dataset/bed_room/apartment-2094734__340.jpg')]\n",
      "[('bed_room', 'dataset/bed_room/apartment-2094734__340.jpg')]\n",
      "[('bed_room', 'dataset/bed_room/apartment-2094734__340.jpg')]\n",
      "[('bed_room', 'dataset/bed_room/apartment-2094734__340.jpg')]\n",
      "[('bed_room', 'dataset/bed_room/apartment-2094734__340.jpg')]\n",
      "[('bed_room', 'dataset/bed_room/apartment-2094734__340.jpg')]\n",
      "[('bed_room', 'dataset/bed_room/apartment-2094734__340.jpg')]\n",
      "[('bed_room', 'dataset/bed_room/apartment-2094734__340.jpg')]\n",
      "[('bed_room', 'dataset/bed_room/apartment-2094734__340.jpg')]\n",
      "[('bed_room', 'dataset/bed_room/apartment-2094734__340.jpg')]\n",
      "[('bed_room', 'dataset/bed_room/apartment-2094734__340.jpg')]\n",
      "[('bed_room', 'dataset/bed_room/apartment-2094734__340.jpg')]\n",
      "[('bed_room', 'dataset/bed_room/apartment-2094734__340.jpg')]\n",
      "[('bed_room', 'dataset/bed_room/apartment-2094734__340.jpg')]\n",
      "[('bed_room', 'dataset/bed_room/apartment-2094734__340.jpg')]\n",
      "[('bed_room', 'dataset/bed_room/apartment-2094734__340.jpg')]\n",
      "[('bed_room', 'dataset/bed_room/apartment-2094734__340.jpg')]\n",
      "[('bed_room', 'dataset/bed_room/apartment-2094734__340.jpg')]\n",
      "[('bed_room', 'dataset/bed_room/apartment-2094734__340.jpg')]\n",
      "[('bed_room', 'dataset/bed_room/apartment-2094734__340.jpg')]\n",
      "[('bed_room', 'dataset/bed_room/apartment-2094734__340.jpg')]\n",
      "[('bed_room', 'dataset/bed_room/apartment-2094734__340.jpg')]\n",
      "[('bed_room', 'dataset/bed_room/apartment-2094734__340.jpg')]\n",
      "[('bed_room', 'dataset/bed_room/apartment-2094734__340.jpg')]\n",
      "[('bed_room', 'dataset/bed_room/apartment-2094734__340.jpg')]\n",
      "[('bed_room', 'dataset/bed_room/apartment-2094734__340.jpg')]\n",
      "[('bed_room', 'dataset/bed_room/apartment-2094734__340.jpg')]\n",
      "[('bed_room', 'dataset/bed_room/apartment-2094734__340.jpg')]\n",
      "[('bed_room', 'dataset/bed_room/apartment-2094734__340.jpg')]\n",
      "[('bed_room', 'dataset/bed_room/apartment-2094734__340.jpg')]\n",
      "[('bed_room', 'dataset/bed_room/apartment-2094734__340.jpg')]\n",
      "[('bed_room', 'dataset/bed_room/apartment-2094734__340.jpg')]\n",
      "[('bed_room', 'dataset/bed_room/apartment-2094734__340.jpg')]\n",
      "[('bed_room', 'dataset/bed_room/apartment-2094734__340.jpg')]\n",
      "[('bed_room', 'dataset/bed_room/apartment-2094734__340.jpg')]\n",
      "[('bed_room', 'dataset/bed_room/apartment-2094734__340.jpg')]\n",
      "[('bed_room', 'dataset/bed_room/apartment-2094734__340.jpg')]\n",
      "[('bed_room', 'dataset/bed_room/apartment-2094734__340.jpg')]\n",
      "[('bed_room', 'dataset/bed_room/apartment-2094734__340.jpg')]\n",
      "[('bed_room', 'dataset/bed_room/apartment-2094734__340.jpg')]\n",
      "[('bed_room', 'dataset/bed_room/apartment-2094734__340.jpg')]\n",
      "[('bed_room', 'dataset/bed_room/apartment-2094734__340.jpg')]\n",
      "[('bed_room', 'dataset/bed_room/apartment-2094734__340.jpg')]\n",
      "[('bed_room', 'dataset/bed_room/apartment-2094734__340.jpg')]\n",
      "[('bed_room', 'dataset/bed_room/apartment-2094734__340.jpg')]\n",
      "[('bed_room', 'dataset/bed_room/apartment-2094734__340.jpg')]\n",
      "[('bed_room', 'dataset/bed_room/apartment-2094734__340.jpg')]\n",
      "[('bed_room', 'dataset/bed_room/apartment-2094734__340.jpg')]\n",
      "[('bed_room', 'dataset/bed_room/apartment-2094734__340.jpg')]\n",
      "[('bed_room', 'dataset/bed_room/apartment-2094734__340.jpg')]\n",
      "[('bed_room', 'dataset/bed_room/apartment-2094734__340.jpg')]\n",
      "[('bed_room', 'dataset/bed_room/apartment-2094734__340.jpg')]\n",
      "[('bed_room', 'dataset/bed_room/apartment-2094734__340.jpg')]\n",
      "[('bed_room', 'dataset/bed_room/apartment-2094734__340.jpg')]\n",
      "[('bed_room', 'dataset/bed_room/apartment-2094734__340.jpg')]\n",
      "[('bed_room', 'dataset/bed_room/apartment-2094734__340.jpg')]\n",
      "[('bed_room', 'dataset/bed_room/apartment-2094734__340.jpg')]\n",
      "[('bed_room', 'dataset/bed_room/apartment-2094734__340.jpg')]\n",
      "[('bed_room', 'dataset/bed_room/apartment-2094734__340.jpg')]\n",
      "[('bed_room', 'dataset/bed_room/apartment-2094734__340.jpg')]\n",
      "[('bed_room', 'dataset/bed_room/apartment-2094734__340.jpg')]\n",
      "[('bed_room', 'dataset/bed_room/apartment-2094734__340.jpg')]\n",
      "[('bed_room', 'dataset/bed_room/apartment-2094734__340.jpg')]\n",
      "[('bed_room', 'dataset/bed_room/apartment-2094734__340.jpg')]\n",
      "[('bed_room', 'dataset/bed_room/apartment-2094734__340.jpg')]\n",
      "[('bed_room', 'dataset/bed_room/apartment-2094734__340.jpg')]\n",
      "[('bed_room', 'dataset/bed_room/apartment-2094734__340.jpg')]\n",
      "[('bed_room', 'dataset/bed_room/apartment-2094734__340.jpg')]\n",
      "[('bed_room', 'dataset/bed_room/apartment-2094734__340.jpg')]\n",
      "[('bed_room', 'dataset/bed_room/apartment-2094734__340.jpg')]\n",
      "[('bed_room', 'dataset/bed_room/apartment-2094734__340.jpg')]\n",
      "[('bed_room', 'dataset/bed_room/apartment-2094734__340.jpg')]\n",
      "[('bed_room', 'dataset/bed_room/apartment-2094734__340.jpg')]\n",
      "[('bed_room', 'dataset/bed_room/apartment-2094734__340.jpg')]\n",
      "[('bed_room', 'dataset/bed_room/apartment-2094734__340.jpg')]\n",
      "[('bed_room', 'dataset/bed_room/apartment-2094734__340.jpg')]\n",
      "[('bed_room', 'dataset/bed_room/apartment-2094734__340.jpg')]\n",
      "[('bed_room', 'dataset/bed_room/apartment-2094734__340.jpg')]\n",
      "[('bed_room', 'dataset/bed_room/apartment-2094734__340.jpg')]\n",
      "[('bed_room', 'dataset/bed_room/apartment-2094734__340.jpg')]\n",
      "[('bed_room', 'dataset/bed_room/apartment-2094734__340.jpg')]\n",
      "[('bed_room', 'dataset/bed_room/apartment-2094734__340.jpg')]\n",
      "[('bed_room', 'dataset/bed_room/apartment-2094734__340.jpg')]\n",
      "[('bed_room', 'dataset/bed_room/apartment-2094734__340.jpg')]\n",
      "[('bed_room', 'dataset/bed_room/apartment-2094734__340.jpg')]\n",
      "[('bed_room', 'dataset/bed_room/apartment-2094734__340.jpg')]\n",
      "[('bed_room', 'dataset/bed_room/apartment-2094734__340.jpg')]\n",
      "[('bed_room', 'dataset/bed_room/apartment-2094734__340.jpg')]\n",
      "[('bed_room', 'dataset/bed_room/apartment-2094734__340.jpg')]\n",
      "[('bed_room', 'dataset/bed_room/apartment-2094734__340.jpg')]\n",
      "[('bed_room', 'dataset/bed_room/apartment-2094734__340.jpg')]\n",
      "[('bed_room', 'dataset/bed_room/apartment-2094734__340.jpg')]\n",
      "[('bed_room', 'dataset/bed_room/apartment-2094734__340.jpg')]\n",
      "[('bed_room', 'dataset/bed_room/apartment-2094734__340.jpg')]\n",
      "[('bed_room', 'dataset/bed_room/apartment-2094734__340.jpg')]\n",
      "[('bed_room', 'dataset/bed_room/apartment-2094734__340.jpg')]\n",
      "[('bed_room', 'dataset/bed_room/apartment-2094734__340.jpg')]\n",
      "[('bed_room', 'dataset/bed_room/apartment-2094734__340.jpg')]\n",
      "[('bed_room', 'dataset/bed_room/apartment-2094734__340.jpg')]\n",
      "[('bed_room', 'dataset/bed_room/apartment-2094734__340.jpg')]\n",
      "[('bed_room', 'dataset/bed_room/apartment-2094734__340.jpg')]\n",
      "[('bed_room', 'dataset/bed_room/apartment-2094734__340.jpg')]\n",
      "[('bed_room', 'dataset/bed_room/apartment-2094734__340.jpg')]\n",
      "[('bed_room', 'dataset/bed_room/apartment-2094734__340.jpg')]\n",
      "[('bed_room', 'dataset/bed_room/apartment-2094734__340.jpg')]\n",
      "[('bed_room', 'dataset/bed_room/apartment-2094734__340.jpg')]\n",
      "[('bed_room', 'dataset/bed_room/apartment-2094734__340.jpg')]\n",
      "[('bed_room', 'dataset/bed_room/apartment-2094734__340.jpg')]\n",
      "[('bed_room', 'dataset/bed_room/apartment-2094734__340.jpg')]\n",
      "[('bed_room', 'dataset/bed_room/apartment-2094734__340.jpg')]\n",
      "[('bed_room', 'dataset/bed_room/apartment-2094734__340.jpg')]\n",
      "[('bed_room', 'dataset/bed_room/apartment-2094734__340.jpg')]\n",
      "[('bed_room', 'dataset/bed_room/apartment-2094734__340.jpg')]\n",
      "[('bed_room', 'dataset/bed_room/apartment-2094734__340.jpg')]\n",
      "[('bed_room', 'dataset/bed_room/apartment-2094734__340.jpg')]\n",
      "[('bed_room', 'dataset/bed_room/apartment-2094734__340.jpg')]\n",
      "[('bed_room', 'dataset/bed_room/apartment-2094734__340.jpg')]\n",
      "[('bed_room', 'dataset/bed_room/apartment-2094734__340.jpg')]\n",
      "[('bed_room', 'dataset/bed_room/apartment-2094734__340.jpg')]\n",
      "[('bed_room', 'dataset/bed_room/apartment-2094734__340.jpg')]\n",
      "[('bed_room', 'dataset/bed_room/apartment-2094734__340.jpg')]\n",
      "[('bed_room', 'dataset/bed_room/apartment-2094734__340.jpg')]\n",
      "[('bed_room', 'dataset/bed_room/apartment-2094734__340.jpg')]\n",
      "[('bed_room', 'dataset/bed_room/apartment-2094734__340.jpg')]\n",
      "[('bed_room', 'dataset/bed_room/apartment-2094734__340.jpg')]\n",
      "[('bed_room', 'dataset/bed_room/apartment-2094734__340.jpg')]\n",
      "[('bed_room', 'dataset/bed_room/apartment-2094734__340.jpg')]\n",
      "[('bed_room', 'dataset/bed_room/apartment-2094734__340.jpg')]\n",
      "[('bed_room', 'dataset/bed_room/apartment-2094734__340.jpg')]\n",
      "[('bed_room', 'dataset/bed_room/apartment-2094734__340.jpg')]\n",
      "[('bed_room', 'dataset/bed_room/apartment-2094734__340.jpg')]\n",
      "[('bed_room', 'dataset/bed_room/apartment-2094734__340.jpg')]\n",
      "[('bed_room', 'dataset/bed_room/apartment-2094734__340.jpg')]\n",
      "[('bed_room', 'dataset/bed_room/apartment-2094734__340.jpg')]\n",
      "[('bed_room', 'dataset/bed_room/apartment-2094734__340.jpg')]\n",
      "[('bed_room', 'dataset/bed_room/apartment-2094734__340.jpg')]\n",
      "[('bed_room', 'dataset/bed_room/apartment-2094734__340.jpg')]\n",
      "[('bed_room', 'dataset/bed_room/apartment-2094734__340.jpg')]\n",
      "[('bed_room', 'dataset/bed_room/apartment-2094734__340.jpg')]\n",
      "[('bed_room', 'dataset/bed_room/apartment-2094734__340.jpg')]\n",
      "[('bed_room', 'dataset/bed_room/apartment-2094734__340.jpg')]\n",
      "[('bed_room', 'dataset/bed_room/apartment-2094734__340.jpg')]\n",
      "[('bed_room', 'dataset/bed_room/apartment-2094734__340.jpg')]\n",
      "[('bed_room', 'dataset/bed_room/apartment-2094734__340.jpg')]\n",
      "[('bed_room', 'dataset/bed_room/apartment-2094734__340.jpg')]\n",
      "[('bed_room', 'dataset/bed_room/apartment-2094734__340.jpg')]\n",
      "[('bed_room', 'dataset/bed_room/apartment-2094734__340.jpg')]\n",
      "[('bed_room', 'dataset/bed_room/apartment-2094734__340.jpg')]\n",
      "[('bed_room', 'dataset/bed_room/apartment-2094734__340.jpg')]\n",
      "[('bed_room', 'dataset/bed_room/apartment-2094734__340.jpg')]\n",
      "[('bed_room', 'dataset/bed_room/apartment-2094734__340.jpg')]\n",
      "[('bed_room', 'dataset/bed_room/apartment-2094734__340.jpg')]\n",
      "[('bed_room', 'dataset/bed_room/apartment-2094734__340.jpg')]\n",
      "[('bed_room', 'dataset/bed_room/apartment-2094734__340.jpg')]\n",
      "[('bed_room', 'dataset/bed_room/apartment-2094734__340.jpg')]\n",
      "[('bed_room', 'dataset/bed_room/apartment-2094734__340.jpg')]\n",
      "[('bed_room', 'dataset/bed_room/apartment-2094734__340.jpg')]\n",
      "[('bed_room', 'dataset/bed_room/apartment-2094734__340.jpg')]\n",
      "[('bed_room', 'dataset/bed_room/apartment-2094734__340.jpg')]\n",
      "[('bed_room', 'dataset/bed_room/apartment-2094734__340.jpg')]\n",
      "[('bed_room', 'dataset/bed_room/apartment-2094734__340.jpg')]\n",
      "[('bed_room', 'dataset/bed_room/apartment-2094734__340.jpg')]\n",
      "[('bed_room', 'dataset/bed_room/apartment-2094734__340.jpg')]\n",
      "[('bed_room', 'dataset/bed_room/apartment-2094734__340.jpg')]\n",
      "[('bed_room', 'dataset/bed_room/apartment-2094734__340.jpg')]\n",
      "[('bed_room', 'dataset/bed_room/apartment-2094734__340.jpg')]\n",
      "[('bed_room', 'dataset/bed_room/apartment-2094734__340.jpg')]\n",
      "[('bed_room', 'dataset/bed_room/apartment-2094734__340.jpg')]\n",
      "[('bed_room', 'dataset/bed_room/apartment-2094734__340.jpg')]\n",
      "[('bed_room', 'dataset/bed_room/apartment-2094734__340.jpg')]\n",
      "[('bed_room', 'dataset/bed_room/apartment-2094734__340.jpg')]\n"
     ]
    }
   ],
   "source": [
    "rooms = []\n",
    "\n",
    "for item in room_types:\n",
    " # Get all the file names\n",
    " all_rooms = os.listdir('dataset' + '/' +item)\n",
    " #print(all_rooms)\n",
    "\n",
    " # Add them to the list\n",
    " for room in all_rooms:\n",
    "    rooms.append((item, str('dataset' + '/' +item) + '/' + room))\n",
    "    print(rooms[:1])\n"
   ]
  },
  {
   "cell_type": "code",
   "execution_count": 7,
   "metadata": {},
   "outputs": [
    {
     "name": "stdout",
     "output_type": "stream",
     "text": [
      "  room type                                              image\n",
      "0  bed_room        dataset/bed_room/apartment-2094734__340.jpg\n",
      "1  bed_room        dataset/bed_room/apartment-4744139__340.jpg\n",
      "2  bed_room     dataset/bed_room/architecture-2141065__340.jpg\n",
      "3  bed_room  dataset/bed_room/architecture-modern-house-bea...\n",
      "4  bed_room             dataset/bed_room/baby-1266117__340.jpg\n",
      "       room type                                             image\n",
      "388  living_room  dataset/living_room/victoria-borodinova-706.jpeg\n",
      "389  living_room          dataset/living_room/wall-823611__340.jpg\n",
      "390  living_room        dataset/living_room/woman-2099465__340.jpg\n",
      "391  living_room         dataset/living_room/young-510440__340.jpg\n",
      "392  living_room         dataset/living_room/young-510453__340.jpg\n"
     ]
    }
   ],
   "source": [
    "# Build a dataframe        \n",
    "rooms_df = pd.DataFrame(data=rooms, columns=['room type', 'image'])\n",
    "print(rooms_df.head())\n",
    "print(rooms_df.tail())"
   ]
  },
  {
   "cell_type": "code",
   "execution_count": 8,
   "metadata": {},
   "outputs": [
    {
     "name": "stdout",
     "output_type": "stream",
     "text": [
      "Total number of rooms in the dataset:  393\n"
     ]
    }
   ],
   "source": [
    "# Let's check how many samples for each category are present\n",
    "print(\"Total number of rooms in the dataset: \", len(rooms_df))"
   ]
  },
  {
   "cell_type": "code",
   "execution_count": 9,
   "metadata": {},
   "outputs": [
    {
     "name": "stdout",
     "output_type": "stream",
     "text": [
      "rooms in each category: \n",
      "bed_room       159\n",
      "living_room    148\n",
      "dining_room     86\n",
      "Name: room type, dtype: int64\n"
     ]
    }
   ],
   "source": [
    "room_count = rooms_df['room type'].value_counts()\n",
    "\n",
    "print(\"rooms in each category: \")\n",
    "print(room_count)"
   ]
  },
  {
   "cell_type": "code",
   "execution_count": 10,
   "metadata": {},
   "outputs": [],
   "source": [
    "import cv2\n",
    "path = 'dataset/'\n",
    "\n",
    "\n",
    "im_size = 100\n",
    "\n",
    "images = []\n",
    "labels = []\n",
    "\n",
    "for i in room_types:\n",
    "    data_path = path + str(i)  # entered in 1st folder and then 2nd folder and then 3rd folder\n",
    "    #filenames = [i for i in os.listdir(data_path) if i.endswith('.jpg')]\n",
    "    filenames = [i for i in os.listdir(data_path) ]\n",
    "   # print(filenames)  # will get the names of all images which ends with .jpg extension\n",
    "    for f in filenames:\n",
    "        img = cv2.imread(data_path + '/' + f)  # reading that image as array\n",
    "        #print(img)  # will get the image as an array\n",
    "        img = cv2.resize(img, (im_size, im_size))\n",
    "        images.append(img)\n",
    "        labels.append(i)"
   ]
  },
  {
   "cell_type": "code",
   "execution_count": 11,
   "metadata": {},
   "outputs": [
    {
     "data": {
      "text/plain": [
       "(393, 100, 100, 3)"
      ]
     },
     "execution_count": 11,
     "metadata": {},
     "output_type": "execute_result"
    }
   ],
   "source": [
    "# Transform the image array to a numpy type\n",
    "\n",
    "images = np.array(images)\n",
    "\n",
    "images.shape"
   ]
  },
  {
   "cell_type": "code",
   "execution_count": 12,
   "metadata": {},
   "outputs": [],
   "source": [
    "images = images.astype('float32') / 255.0"
   ]
  },
  {
   "cell_type": "code",
   "execution_count": 13,
   "metadata": {},
   "outputs": [
    {
     "data": {
      "text/plain": [
       "(393, 100, 100, 3)"
      ]
     },
     "execution_count": 13,
     "metadata": {},
     "output_type": "execute_result"
    }
   ],
   "source": [
    "images.shape"
   ]
  },
  {
   "cell_type": "code",
   "execution_count": 14,
   "metadata": {},
   "outputs": [
    {
     "name": "stdout",
     "output_type": "stream",
     "text": [
      "['bed_room' 'bed_room' 'bed_room' 'bed_room' 'bed_room']\n"
     ]
    }
   ],
   "source": [
    "from sklearn.preprocessing import LabelEncoder , OneHotEncoder\n",
    "\n",
    "\n",
    "y=rooms_df['room type'].values\n",
    "print(y[:5])"
   ]
  },
  {
   "cell_type": "code",
   "execution_count": 15,
   "metadata": {},
   "outputs": [
    {
     "name": "stdout",
     "output_type": "stream",
     "text": [
      "Name: tensorflow\n",
      "Version: 1.15.0\n",
      "Summary: TensorFlow is an open source machine learning framework for everyone.\n",
      "Home-page: https://www.tensorflow.org/\n",
      "Author: Google Inc.\n",
      "Author-email: packages@tensorflow.org\n",
      "License: Apache 2.0\n",
      "Location: d:\\env_with_tensorflow1.14\\myvenv\\lib\\site-packages\n",
      "Requires: numpy, gast, google-pasta, tensorboard, tensorflow-estimator, termcolor, absl-py, keras-applications, wrapt, astor, opt-einsum, keras-preprocessing, grpcio, six, protobuf, wheel\n",
      "Required-by: \n"
     ]
    },
    {
     "name": "stderr",
     "output_type": "stream",
     "text": [
      "WARNING: Package(s) not found: #1.15.0\n"
     ]
    }
   ],
   "source": [
    "!pip show tensorflow  #1.15.0\n"
   ]
  },
  {
   "cell_type": "code",
   "execution_count": 16,
   "metadata": {},
   "outputs": [
    {
     "name": "stdout",
     "output_type": "stream",
     "text": [
      "[0 0 0 0 0 0 0 0 0 0 0 0 0 0 0 0 0 0 0 0 0 0 0 0 0 0 0 0 0 0 0 0 0 0 0 0 0\n",
      " 0 0 0 0 0 0 0 0 0 0 0 0 0 0 0 0 0 0 0 0 0 0 0 0 0 0 0 0 0 0 0 0 0 0 0 0 0\n",
      " 0 0 0 0 0 0 0 0 0 0 0 0 0 0 0 0 0 0 0 0 0 0 0 0 0 0 0 0 0 0 0 0 0 0 0 0 0\n",
      " 0 0 0 0 0 0 0 0 0 0 0 0 0 0 0 0 0 0 0 0 0 0 0 0 0 0 0 0 0 0 0 0 0 0 0 0 0\n",
      " 0 0 0 0 0 0 0 0 0 0 0 1 1 1 1 1 1 1 1 1 1 1 1 1 1 1 1 1 1 1 1 1 1 1 1 1 1\n",
      " 1 1 1 1 1 1 1 1 1 1 1 1 1 1 1 1 1 1 1 1 1 1 1 1 1 1 1 1 1 1 1 1 1 1 1 1 1\n",
      " 1 1 1 1 1 1 1 1 1 1 1 1 1 1 1 1 1 1 1 1 1 1 1 2 2 2 2 2 2 2 2 2 2 2 2 2 2\n",
      " 2 2 2 2 2 2 2 2 2 2 2 2 2 2 2 2 2 2 2 2 2 2 2 2 2 2 2 2 2 2 2 2 2 2 2 2 2\n",
      " 2 2 2 2 2 2 2 2 2 2 2 2 2 2 2 2 2 2 2 2 2 2 2 2 2 2 2 2 2 2 2 2 2 2 2 2 2\n",
      " 2 2 2 2 2 2 2 2 2 2 2 2 2 2 2 2 2 2 2 2 2 2 2 2 2 2 2 2 2 2 2 2 2 2 2 2 2\n",
      " 2 2 2 2 2 2 2 2 2 2 2 2 2 2 2 2 2 2 2 2 2 2 2]\n"
     ]
    }
   ],
   "source": [
    "# for y\n",
    "\n",
    "y_labelencoder = LabelEncoder ()\n",
    "y = y_labelencoder.fit_transform (y)\n",
    "print (y)\n"
   ]
  },
  {
   "cell_type": "code",
   "execution_count": 17,
   "metadata": {},
   "outputs": [],
   "source": [
    "\n",
    "y=y.reshape(-1,1)\n",
    "\n",
    "from sklearn.preprocessing import OneHotEncoder\n",
    "from sklearn.compose import ColumnTransformer\n",
    "\n",
    "columnTransformer = ColumnTransformer([('encoder', OneHotEncoder(), [0])], remainder='passthrough')\n",
    "#Y=np.array(columnTransformer.fit_transform(y),dtype=np.str)\n",
    "#Y=columnTransformer.fit_transform(y)\n",
    "\n",
    "\n",
    "y = columnTransformer.fit_transform(y.tolist())\n",
    "Y = y.astype('float64')\n"
   ]
  },
  {
   "cell_type": "code",
   "execution_count": 18,
   "metadata": {},
   "outputs": [
    {
     "name": "stdout",
     "output_type": "stream",
     "text": [
      "(373, 100, 100, 3)\n",
      "(373, 3)\n",
      "(20, 100, 100, 3)\n",
      "(20, 3)\n"
     ]
    }
   ],
   "source": [
    "\n",
    "from sklearn.utils import shuffle\n",
    "from sklearn.model_selection import train_test_split\n",
    "\n",
    "\n",
    "images, Y = shuffle(images, Y, random_state=1)\n",
    "\n",
    "train_x, test_x, train_y, test_y = train_test_split(images, Y, test_size=0.05, random_state=415)\n",
    "\n",
    "#inpect the shape of the training and testing.\n",
    "print(train_x.shape)\n",
    "print(train_y.shape)\n",
    "print(test_x.shape)\n",
    "print(test_y.shape)"
   ]
  },
  {
   "cell_type": "code",
   "execution_count": null,
   "metadata": {},
   "outputs": [],
   "source": []
  },
  {
   "cell_type": "code",
   "execution_count": 19,
   "metadata": {},
   "outputs": [
    {
     "name": "stdout",
     "output_type": "stream",
     "text": [
      "(373, 30000)\n"
     ]
    },
    {
     "data": {
      "text/plain": [
       "(20, 30000)"
      ]
     },
     "execution_count": 19,
     "metadata": {},
     "output_type": "execute_result"
    }
   ],
   "source": [
    "train_x=np.reshape(train_x,(373,30000))\n",
    "print(train_x.shape)\n",
    "\n",
    "test_x=np.reshape(test_x,(20,30000))\n",
    "test_x.shape\n",
    "\n"
   ]
  },
  {
   "cell_type": "code",
   "execution_count": 20,
   "metadata": {},
   "outputs": [],
   "source": [
    "# hyper Parameters\n",
    "learning_rate = 0.001\n"
   ]
  },
  {
   "cell_type": "code",
   "execution_count": 21,
   "metadata": {},
   "outputs": [],
   "source": [
    "# Network Parameters\n",
    "n_hidden_1 = 256 # 1st layer has 256 neurons\n",
    "n_hidden_2 = 256 # 2nd layer has 256 neurons\n",
    "n_input = 30000 #  data input (img shape: 100*100*3)\n",
    "n_classes = 3 # total classes (3)\n"
   ]
  },
  {
   "cell_type": "code",
   "execution_count": 22,
   "metadata": {},
   "outputs": [],
   "source": [
    "import tensorflow as tf\n",
    "#import tensorflow.compat.v1 as tf\n",
    "#tf.disable_v2_behavior()\n",
    "\n",
    "# tf Graph input\n",
    "x = tf.placeholder(\"float\", [None, n_input])\n",
    "y_ = tf.placeholder(\"float\", [None, n_classes])\n"
   ]
  },
  {
   "cell_type": "code",
   "execution_count": 23,
   "metadata": {},
   "outputs": [],
   "source": [
    "# Store layers weight & bias\n",
    "weights = {\n",
    "    'h1': tf.Variable(tf.random_normal([n_input, n_hidden_1])),  # n_input 30000 and n_hidden_1 256\n",
    "    'h2': tf.Variable(tf.random_normal([n_hidden_1, n_hidden_2])),  # output of h1 will be a input for h2 and n_hidden_2 256\n",
    "    'out': tf.Variable(tf.random_normal([n_hidden_2, n_classes]))  # 256,3\n",
    "}\n",
    "biases = {\n",
    "    'b1': tf.Variable(tf.random_normal([n_hidden_1])),\n",
    "    'b2': tf.Variable(tf.random_normal([n_hidden_2])),\n",
    "    'out': tf.Variable(tf.random_normal([n_classes]))\n",
    "}"
   ]
  },
  {
   "cell_type": "code",
   "execution_count": 24,
   "metadata": {},
   "outputs": [],
   "source": [
    "# Create model\n",
    "def multilayer_perceptron(x, weights, biases):\n",
    "    # Hidden layer with RELU activation\n",
    "    layer_1 = tf.add(tf.matmul(x, weights['h1']), biases['b1'])  #matmul on x and w , then adding it with bias # summation\n",
    "    layer_1 = tf.nn.relu(layer_1)   # activation function\n",
    "    \n",
    "    # Hidden layer with RELU activation\n",
    "    layer_2 = tf.add(tf.matmul(layer_1, weights['h2']), biases['b2'])\n",
    "    layer_2 = tf.nn.relu(layer_2)\n",
    "    \n",
    "    # Output layer with linear activation\n",
    "    out_layer = tf.matmul(layer_2, weights['out']) + biases['out']\n",
    "    out_layer = tf.nn.softmax(out_layer)\n",
    "    return out_layer\n"
   ]
  },
  {
   "cell_type": "code",
   "execution_count": 25,
   "metadata": {},
   "outputs": [],
   "source": [
    "# Construct model\n",
    "pred = multilayer_perceptron(x, weights, biases)\n"
   ]
  },
  {
   "cell_type": "code",
   "execution_count": 26,
   "metadata": {},
   "outputs": [
    {
     "name": "stdout",
     "output_type": "stream",
     "text": [
      "WARNING:tensorflow:From <ipython-input-26-a37ca944eb1f>:2: softmax_cross_entropy_with_logits (from tensorflow.python.ops.nn_ops) is deprecated and will be removed in a future version.\n",
      "Instructions for updating:\n",
      "\n",
      "Future major versions of TensorFlow will allow gradients to flow\n",
      "into the labels input on backprop by default.\n",
      "\n",
      "See `tf.nn.softmax_cross_entropy_with_logits_v2`.\n",
      "\n"
     ]
    }
   ],
   "source": [
    "# Define loss and optimizer\n",
    "cost = tf.reduce_mean(tf.nn.softmax_cross_entropy_with_logits(logits=pred, labels=y_))   #. pred is the output of MLP . Y is the placeholder which will hold the target output\n",
    "# cross-entropy for calculating error\n",
    "\n",
    "\n",
    "optimizer = tf.train.AdamOptimizer(learning_rate=learning_rate).minimize(cost)\n"
   ]
  },
  {
   "cell_type": "code",
   "execution_count": 27,
   "metadata": {},
   "outputs": [],
   "source": [
    "# Initializing the variables\n",
    "init = tf.global_variables_initializer()\n",
    "#create an empty list to store the cost history and accuracy history\n",
    "cost_history = []\n",
    "accuracy_history = []\n",
    "# Launch the graph\n"
   ]
  },
  {
   "cell_type": "code",
   "execution_count": 28,
   "metadata": {},
   "outputs": [],
   "source": [
    "# the execution\n",
    "sess = tf.Session()\n",
    "sess.run(init)"
   ]
  },
  {
   "cell_type": "code",
   "execution_count": 29,
   "metadata": {
    "scrolled": false
   },
   "outputs": [
    {
     "name": "stdout",
     "output_type": "stream",
     "text": [
      "epoch :  0  -  cost:  1.318201\n",
      "epoch :  1  -  cost:  1.3208818\n",
      "epoch :  2  -  cost:  1.3208818\n",
      "epoch :  3  -  cost:  1.3235629\n",
      "epoch :  4  -  cost:  1.3235629\n",
      "epoch :  5  -  cost:  1.3262215\n",
      "epoch :  6  -  cost:  1.2458168\n",
      "epoch :  7  -  cost:  1.1546621\n",
      "epoch :  8  -  cost:  1.157343\n",
      "epoch :  9  -  cost:  1.1546621\n",
      "epoch :  10  -  cost:  1.1519811\n",
      "epoch :  11  -  cost:  1.1466191\n",
      "epoch :  12  -  cost:  1.1439382\n",
      "epoch :  13  -  cost:  1.1439382\n",
      "epoch :  14  -  cost:  1.1439382\n",
      "epoch :  15  -  cost:  1.1439382\n",
      "epoch :  16  -  cost:  1.1439382\n",
      "epoch :  17  -  cost:  1.1439382\n",
      "epoch :  18  -  cost:  1.1439382\n",
      "epoch :  19  -  cost:  1.1439382\n",
      "epoch :  20  -  cost:  1.1439382\n",
      "epoch :  21  -  cost:  1.1439382\n",
      "epoch :  22  -  cost:  1.1439382\n",
      "epoch :  23  -  cost:  1.1439382\n",
      "epoch :  24  -  cost:  1.1439382\n",
      "epoch :  25  -  cost:  1.1439382\n",
      "epoch :  26  -  cost:  1.1439382\n",
      "epoch :  27  -  cost:  1.1439382\n",
      "epoch :  28  -  cost:  1.1439382\n",
      "epoch :  29  -  cost:  1.1439382\n",
      "epoch :  30  -  cost:  1.1439382\n",
      "epoch :  31  -  cost:  1.1439382\n",
      "epoch :  32  -  cost:  1.1439382\n",
      "epoch :  33  -  cost:  1.1439382\n",
      "epoch :  34  -  cost:  1.1439382\n",
      "epoch :  35  -  cost:  1.1439382\n",
      "epoch :  36  -  cost:  1.1439382\n",
      "epoch :  37  -  cost:  1.1439382\n",
      "epoch :  38  -  cost:  1.1439382\n",
      "epoch :  39  -  cost:  1.1439382\n",
      "epoch :  40  -  cost:  1.1439382\n",
      "epoch :  41  -  cost:  1.1439382\n",
      "epoch :  42  -  cost:  1.1439382\n",
      "epoch :  43  -  cost:  1.1439382\n",
      "epoch :  44  -  cost:  1.1439382\n",
      "epoch :  45  -  cost:  1.1439382\n",
      "epoch :  46  -  cost:  1.1439382\n",
      "epoch :  47  -  cost:  1.1439382\n",
      "epoch :  48  -  cost:  1.1439382\n",
      "epoch :  49  -  cost:  1.1439382\n",
      "epoch :  50  -  cost:  1.1439382\n",
      "epoch :  51  -  cost:  1.1439382\n",
      "epoch :  52  -  cost:  1.1439382\n",
      "epoch :  53  -  cost:  1.1439382\n",
      "epoch :  54  -  cost:  1.1439382\n",
      "epoch :  55  -  cost:  1.1439382\n",
      "epoch :  56  -  cost:  1.1439382\n",
      "epoch :  57  -  cost:  1.1439382\n",
      "epoch :  58  -  cost:  1.1439382\n",
      "epoch :  59  -  cost:  1.1439382\n",
      "epoch :  60  -  cost:  1.1439382\n",
      "epoch :  61  -  cost:  1.1439382\n",
      "epoch :  62  -  cost:  1.1439382\n",
      "epoch :  63  -  cost:  1.1439382\n",
      "epoch :  64  -  cost:  1.1439382\n",
      "epoch :  65  -  cost:  1.1439382\n",
      "epoch :  66  -  cost:  1.1439382\n",
      "epoch :  67  -  cost:  1.1439382\n",
      "epoch :  68  -  cost:  1.1439382\n",
      "epoch :  69  -  cost:  1.1439382\n",
      "epoch :  70  -  cost:  1.1439382\n",
      "epoch :  71  -  cost:  1.1439382\n",
      "epoch :  72  -  cost:  1.1439382\n",
      "epoch :  73  -  cost:  1.1439382\n",
      "epoch :  74  -  cost:  1.1439382\n",
      "epoch :  75  -  cost:  1.1439382\n",
      "epoch :  76  -  cost:  1.1439382\n",
      "epoch :  77  -  cost:  1.1439382\n",
      "epoch :  78  -  cost:  1.1439382\n",
      "epoch :  79  -  cost:  1.1439382\n",
      "epoch :  80  -  cost:  1.1439382\n",
      "epoch :  81  -  cost:  1.1439382\n",
      "epoch :  82  -  cost:  1.1439382\n",
      "epoch :  83  -  cost:  1.1439382\n",
      "epoch :  84  -  cost:  1.1439382\n",
      "epoch :  85  -  cost:  1.1439382\n",
      "epoch :  86  -  cost:  1.1439382\n",
      "epoch :  87  -  cost:  1.1439382\n",
      "epoch :  88  -  cost:  1.1439382\n",
      "epoch :  89  -  cost:  1.1439382\n",
      "epoch :  90  -  cost:  1.1439382\n",
      "epoch :  91  -  cost:  1.1439382\n",
      "epoch :  92  -  cost:  1.1439382\n",
      "epoch :  93  -  cost:  1.1439382\n",
      "epoch :  94  -  cost:  1.1439382\n",
      "epoch :  95  -  cost:  1.1439382\n",
      "epoch :  96  -  cost:  1.1439382\n",
      "epoch :  97  -  cost:  1.1439382\n",
      "epoch :  98  -  cost:  1.1439382\n",
      "epoch :  99  -  cost:  1.1439382\n",
      "epoch :  100  -  cost:  1.1439382\n",
      "epoch :  101  -  cost:  1.1439382\n",
      "epoch :  102  -  cost:  1.1439382\n",
      "epoch :  103  -  cost:  1.1439382\n",
      "epoch :  104  -  cost:  1.1439382\n",
      "epoch :  105  -  cost:  1.1439382\n",
      "epoch :  106  -  cost:  1.1439382\n",
      "epoch :  107  -  cost:  1.1439382\n",
      "epoch :  108  -  cost:  1.1439382\n",
      "epoch :  109  -  cost:  1.1439382\n",
      "epoch :  110  -  cost:  1.1439382\n",
      "epoch :  111  -  cost:  1.1439382\n",
      "epoch :  112  -  cost:  1.1439382\n",
      "epoch :  113  -  cost:  1.1439382\n",
      "epoch :  114  -  cost:  1.1439382\n",
      "epoch :  115  -  cost:  1.1439382\n",
      "epoch :  116  -  cost:  1.1439382\n",
      "epoch :  117  -  cost:  1.1439382\n",
      "epoch :  118  -  cost:  1.1439382\n",
      "epoch :  119  -  cost:  1.1439382\n",
      "epoch :  120  -  cost:  1.1439382\n",
      "epoch :  121  -  cost:  1.1439382\n",
      "epoch :  122  -  cost:  1.1439382\n",
      "epoch :  123  -  cost:  1.1439382\n",
      "epoch :  124  -  cost:  1.1439382\n",
      "epoch :  125  -  cost:  1.1439382\n",
      "epoch :  126  -  cost:  1.1439382\n",
      "epoch :  127  -  cost:  1.1439382\n",
      "epoch :  128  -  cost:  1.1439382\n",
      "epoch :  129  -  cost:  1.1439382\n",
      "epoch :  130  -  cost:  1.1439382\n",
      "epoch :  131  -  cost:  1.1439382\n",
      "epoch :  132  -  cost:  1.1439382\n",
      "epoch :  133  -  cost:  1.1439382\n",
      "epoch :  134  -  cost:  1.1439382\n",
      "epoch :  135  -  cost:  1.1439382\n",
      "epoch :  136  -  cost:  1.1439382\n",
      "epoch :  137  -  cost:  1.1439382\n",
      "epoch :  138  -  cost:  1.1439382\n",
      "epoch :  139  -  cost:  1.1439382\n",
      "epoch :  140  -  cost:  1.1439382\n",
      "epoch :  141  -  cost:  1.1439382\n",
      "epoch :  142  -  cost:  1.1439382\n",
      "epoch :  143  -  cost:  1.1439382\n",
      "epoch :  144  -  cost:  1.1439382\n",
      "epoch :  145  -  cost:  1.1439382\n",
      "epoch :  146  -  cost:  1.1439382\n",
      "epoch :  147  -  cost:  1.1439382\n",
      "epoch :  148  -  cost:  1.1439382\n",
      "epoch :  149  -  cost:  1.1439382\n",
      "epoch :  150  -  cost:  1.1439382\n",
      "epoch :  151  -  cost:  1.1439382\n",
      "epoch :  152  -  cost:  1.1439382\n",
      "epoch :  153  -  cost:  1.1439382\n",
      "epoch :  154  -  cost:  1.1439382\n",
      "epoch :  155  -  cost:  1.1439382\n",
      "epoch :  156  -  cost:  1.1439382\n",
      "epoch :  157  -  cost:  1.1439382\n",
      "epoch :  158  -  cost:  1.1439382\n",
      "epoch :  159  -  cost:  1.1439382\n",
      "epoch :  160  -  cost:  1.1439382\n",
      "epoch :  161  -  cost:  1.1439382\n",
      "epoch :  162  -  cost:  1.1439382\n",
      "epoch :  163  -  cost:  1.1439382\n",
      "epoch :  164  -  cost:  1.1439382\n",
      "epoch :  165  -  cost:  1.1439382\n",
      "epoch :  166  -  cost:  1.1439382\n",
      "epoch :  167  -  cost:  1.1439382\n",
      "epoch :  168  -  cost:  1.1439382\n",
      "epoch :  169  -  cost:  1.1439382\n",
      "epoch :  170  -  cost:  1.1439382\n",
      "epoch :  171  -  cost:  1.1439382\n",
      "epoch :  172  -  cost:  1.1439382\n",
      "epoch :  173  -  cost:  1.1439382\n",
      "epoch :  174  -  cost:  1.1439382\n",
      "epoch :  175  -  cost:  1.1439382\n",
      "epoch :  176  -  cost:  1.1439382\n",
      "epoch :  177  -  cost:  1.1439382\n",
      "epoch :  178  -  cost:  1.1439382\n",
      "epoch :  179  -  cost:  1.1439382\n",
      "epoch :  180  -  cost:  1.1439382\n",
      "epoch :  181  -  cost:  1.1439382\n",
      "epoch :  182  -  cost:  1.1439382\n",
      "epoch :  183  -  cost:  1.1439382\n",
      "epoch :  184  -  cost:  1.1439382\n",
      "epoch :  185  -  cost:  1.1439382\n",
      "epoch :  186  -  cost:  1.1439382\n",
      "epoch :  187  -  cost:  1.1439382\n",
      "epoch :  188  -  cost:  1.1439382\n",
      "epoch :  189  -  cost:  1.1439382\n",
      "epoch :  190  -  cost:  1.1439382\n",
      "epoch :  191  -  cost:  1.1439382\n",
      "epoch :  192  -  cost:  1.1439382\n",
      "epoch :  193  -  cost:  1.1439382\n",
      "epoch :  194  -  cost:  1.1439382\n",
      "epoch :  195  -  cost:  1.1439382\n",
      "epoch :  196  -  cost:  1.1439382\n",
      "epoch :  197  -  cost:  1.1439382\n",
      "epoch :  198  -  cost:  1.1439382\n",
      "epoch :  199  -  cost:  1.1439382\n"
     ]
    }
   ],
   "source": [
    "cost_history = []\n",
    "n_epochs = 200\n",
    "\n",
    "#ValueError: setting an array element with a sequence will resolve by 2 below given lines\n",
    "#train_y=train_y.todense()\n",
    "#print(train_y)\n",
    "\n",
    "\n",
    "for i in range(n_epochs):\n",
    "    a, c = sess.run([optimizer, cost], feed_dict={x: train_x, y_: train_y})  #working\n",
    "    cost_history = np.append(cost_history,c)  # working\n",
    "    print('epoch : ', i,  ' - ', 'cost: ', c) #working \n",
    "  "
   ]
  },
  {
   "cell_type": "markdown",
   "metadata": {},
   "source": [
    "# checkig accuracy of model on test data\n"
   ]
  },
  {
   "cell_type": "code",
   "execution_count": 30,
   "metadata": {},
   "outputs": [
    {
     "name": "stdout",
     "output_type": "stream",
     "text": [
      "[[0. 0. 1.]\n",
      " [0. 0. 1.]\n",
      " [0. 0. 1.]\n",
      " [1. 0. 0.]\n",
      " [0. 0. 1.]\n",
      " [0. 0. 1.]\n",
      " [0. 1. 0.]\n",
      " [1. 0. 0.]\n",
      " [1. 0. 0.]\n",
      " [1. 0. 0.]\n",
      " [0. 0. 1.]\n",
      " [0. 1. 0.]\n",
      " [0. 0. 1.]\n",
      " [0. 1. 0.]\n",
      " [1. 0. 0.]\n",
      " [1. 0. 0.]\n",
      " [0. 1. 0.]\n",
      " [0. 0. 1.]\n",
      " [1. 0. 0.]\n",
      " [0. 0. 1.]]\n",
      "Accuracy:  0.35\n"
     ]
    }
   ],
   "source": [
    "\n",
    "\n",
    "#test_y=test_y.todense()  #working solution of ValueError: setting an array element with a sequence.\n",
    "print(test_y)\n",
    "\n",
    "\n",
    "# toarray returns an ndarray; todense returns a matrix. If you want a matrix, use todense; otherwise, use toarray.\n",
    "\n",
    "\n",
    "correct_prediction = tf.equal(tf.argmax(pred,1), tf.argmax(y_,1))   \n",
    "correct_prediction \n",
    "\n",
    "accuracy = tf.reduce_mean(tf.cast(correct_prediction, tf.float32))\n",
    "accuracy\n",
    "\n",
    "\n",
    "# retrun the accuracy on the test set.\n",
    "print(\"Accuracy: \", sess.run(accuracy, feed_dict={x: test_x, y_:test_y}))"
   ]
  },
  {
   "cell_type": "markdown",
   "metadata": {},
   "source": [
    "# take input from user and predict the result"
   ]
  },
  {
   "cell_type": "code",
   "execution_count": 31,
   "metadata": {},
   "outputs": [
    {
     "name": "stdout",
     "output_type": "stream",
     "text": [
      "[[1. 0. 0.]]\n"
     ]
    }
   ],
   "source": [
    "\n",
    "import cv2\n",
    "img = cv2.imread('room_test_img.jpg')\n",
    "\n",
    "img = cv2.resize(img, (100, 100))\n",
    "#nx, ny, nc = 100,100,3\n",
    "#img_flat = img.reshape(nx * ny * nc)\n",
    "IMG = np.reshape(img,(1,30000))\n",
    "pred_y = sess.run(pred, feed_dict={x: IMG}) \n",
    "print(pred_y)"
   ]
  },
  {
   "cell_type": "code",
   "execution_count": 32,
   "metadata": {},
   "outputs": [
    {
     "name": "stdout",
     "output_type": "stream",
     "text": [
      "5.51 ms ± 0 ns per loop (mean ± std. dev. of 1 run, 1 loop each)\n"
     ]
    }
   ],
   "source": [
    "%%timeit -n1 -r1 \n",
    "with tf.device('/CPU:0'):\n",
    "    cpu_model =multilayer_perceptron(x, weights, biases)\n",
    "    cpu_model"
   ]
  }
 ],
 "metadata": {
  "kernelspec": {
   "display_name": "Python 3",
   "language": "python",
   "name": "python3"
  },
  "language_info": {
   "codemirror_mode": {
    "name": "ipython",
    "version": 3
   },
   "file_extension": ".py",
   "mimetype": "text/x-python",
   "name": "python",
   "nbconvert_exporter": "python",
   "pygments_lexer": "ipython3",
   "version": "3.6.8"
  }
 },
 "nbformat": 4,
 "nbformat_minor": 2
}
